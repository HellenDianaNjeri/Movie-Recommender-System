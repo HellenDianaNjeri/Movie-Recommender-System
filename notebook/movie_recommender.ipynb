{
 "cells": [
  {
   "cell_type": "markdown",
   "id": "efe82254",
   "metadata": {},
   "source": [
    "# Movie Recommender System\n",
    "\n",
    "This notebook builds a movie recommendation system using the MovieLens dataset and collaborative filtering.\n"
   ]
  },
  {
   "cell_type": "markdown",
   "id": "bda87e31",
   "metadata": {},
   "source": [
    "# Business Understanding\n",
    "\n",
    "The goal of this project is to build a **Movie Recommendation System** using the MovieLens dataset.  \n",
    "\n",
    "### Problem Statement\n",
    "Movie streaming platforms need effective ways to recommend movies that users are likely to enjoy.  \n",
    "This project applies **collaborative filtering** to recommend movies based on past user ratings.\n",
    "\n",
    "### Objectives\n",
    "- Provide personalized movie recommendations.  \n",
    "- Explore user-item interactions from the MovieLens dataset.  \n",
    "- Build a baseline recommender using item-based collaborative filtering.  \n"
   ]
  }
 ],
 "metadata": {
  "language_info": {
   "name": "python"
  }
 },
 "nbformat": 4,
 "nbformat_minor": 5
}
