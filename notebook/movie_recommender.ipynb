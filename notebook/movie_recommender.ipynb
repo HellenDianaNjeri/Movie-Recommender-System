{
 "cells": [
  {
   "cell_type": "markdown",
   "id": "efe82254",
   "metadata": {},
   "source": [
    "# Movie Recommender System\n",
    "\n",
    "This notebook builds a movie recommendation system using the MovieLens dataset and collaborative filtering.\n"
   ]
  }
 ],
 "metadata": {
  "language_info": {
   "name": "python"
  }
 },
 "nbformat": 4,
 "nbformat_minor": 5
}
